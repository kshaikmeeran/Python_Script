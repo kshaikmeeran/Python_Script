{
 "cells": [
  {
   "cell_type": "code",
   "execution_count": 1,
   "id": "54f56a1b-d130-425d-a620-337034f526c5",
   "metadata": {},
   "outputs": [],
   "source": [
    "import pandas as pd\n",
    "import numpy as np\n",
    "import matplotlib.pyplot as plt\n",
    "import seaborn as sns"
   ]
  },
  {
   "cell_type": "code",
   "execution_count": 2,
   "id": "9d5dbb6a-e9d0-4525-90bc-f9ac933fe149",
   "metadata": {},
   "outputs": [
    {
     "name": "stdout",
     "output_type": "stream",
     "text": [
      "For age 2, the ticket price is Rs 100\n",
      "For age 5, the ticket price is Rs 100\n",
      "For age 15, the ticket price is Rs 100\n",
      "For age 25, the ticket price is Rs 150\n",
      "For age 70, the ticket price is Rs 120\n",
      "The total price for 5 tickets is Rs 570\n"
     ]
    }
   ],
   "source": [
    "class Ticket:\n",
    "    def __init__(self,name,age,num_tickets,movie_name):\n",
    "        self.name = name\n",
    "        self.age = age\n",
    "        self.num_tickets = num_tickets\n",
    "        self.movie_name=movie.name\n",
    "'''if __name__ ==\"__main__\":\n",
    "    name = input(\"Enter the Name: \")\n",
    "    num_tickets = int(input(\"Enter the num_tickets: \"))\n",
    "    age = int(input(\"Enter the age: \"))    \n",
    "    movie_name = input(\"Enter the movie_name: \") '''\n",
    "\n",
    "def calculate_ticket_price(age):\n",
    "    # Base ticket price\n",
    "    base_price = 100\n",
    "    \n",
    "    # Check age conditions\n",
    "    if age < 18:\n",
    "        ticket_price = base_price   \n",
    "    elif  age > 60:\n",
    "        ticket_price = base_price + 20      \n",
    "    else:\n",
    "        ticket_price = base_price + 50 \n",
    "    \n",
    "    return ticket_price\n",
    "def calculate_total_price(ages):\n",
    "    total_price = sum(calculate_ticket_price(age) for age in ages)\n",
    "    return total_price\n",
    "\n",
    "def calculate_total_price_2(num_tickets):\n",
    "    tot_price = sum(calculate_ticket_price(age) for age in num_tickets)\n",
    "    return tot_price\n",
    "\n",
    "\n",
    "# Test the function with different ages\n",
    "ages = [2, 5, 15, 25, 70]\n",
    "for age in ages:\n",
    "    print(f\"For age {age}, the ticket price is Rs {calculate_ticket_price(age) }\")\n",
    "total_price = calculate_total_price(ages)\n",
    "\n",
    "print(f\"The total price for {len(ages)} tickets is Rs {total_price }\")\n",
    "#tot_price = calculate_total_price_2(num_tickets)\n",
    "#print(f\"The total price for {len(num_tickets)} tickets is Rs {total_price }\")"
   ]
  },
  {
   "cell_type": "code",
   "execution_count": 20,
   "id": "c0748a3d-4159-4d1d-9253-81a231171605",
   "metadata": {},
   "outputs": [],
   "source": [
    "class Car:\n",
    "    def __init__(self,name,model_number,color,engine,roof_top):\n",
    "        self.name = name\n",
    "        self.model_number = model_number\n",
    "        self.color = color\n",
    "        self.roof_top = roof_top\n",
    "        "
   ]
  },
  {
   "cell_type": "code",
   "execution_count": 21,
   "id": "84653b3b-0a32-481d-98c4-b49f38e4c238",
   "metadata": {},
   "outputs": [],
   "source": [
    "c1 = Car(\"Audi\",\"c_2015\",\"green\",\"v8_turbo\",\"No\")"
   ]
  },
  {
   "cell_type": "code",
   "execution_count": 22,
   "id": "51c02246-1c2a-408f-a228-3c5685bd1bd6",
   "metadata": {},
   "outputs": [
    {
     "data": {
      "text/plain": [
       "'Audi'"
      ]
     },
     "execution_count": 22,
     "metadata": {},
     "output_type": "execute_result"
    }
   ],
   "source": [
    "c1.name"
   ]
  },
  {
   "cell_type": "code",
   "execution_count": 23,
   "id": "393a0111-cb6b-42d8-83cb-4a9e7d20d7da",
   "metadata": {},
   "outputs": [
    {
     "data": {
      "text/plain": [
       "'c_2015'"
      ]
     },
     "execution_count": 23,
     "metadata": {},
     "output_type": "execute_result"
    }
   ],
   "source": [
    "c1.model_number"
   ]
  },
  {
   "cell_type": "code",
   "execution_count": 24,
   "id": "73fd2dbc-b2a4-45ac-a59c-81ab2c3f6db1",
   "metadata": {},
   "outputs": [],
   "source": [
    "c2 = Car(\"Toyota\",\"Corolla\",\"Black\",\"Turbo\",\"yes\")"
   ]
  },
  {
   "cell_type": "code",
   "execution_count": 25,
   "id": "2453f669-6358-4d11-b9c1-d25ff3b3b560",
   "metadata": {},
   "outputs": [
    {
     "data": {
      "text/plain": [
       "'Black'"
      ]
     },
     "execution_count": 25,
     "metadata": {},
     "output_type": "execute_result"
    }
   ],
   "source": [
    "c2.color"
   ]
  },
  {
   "cell_type": "code",
   "execution_count": 26,
   "id": "c8d90afc-0967-4b07-af73-c184ba8b4a1f",
   "metadata": {},
   "outputs": [
    {
     "data": {
      "text/plain": [
       "'Toyota'"
      ]
     },
     "execution_count": 26,
     "metadata": {},
     "output_type": "execute_result"
    }
   ],
   "source": [
    "c2.name"
   ]
  },
  {
   "cell_type": "code",
   "execution_count": 3,
   "id": "70d12599-c4a0-45ed-8ca5-299166b4acd5",
   "metadata": {},
   "outputs": [
    {
     "name": "stdin",
     "output_type": "stream",
     "text": [
      "Enter the number of movie tickets:  5\n",
      "Enter the age of ticket holder 1:  13\n"
     ]
    },
    {
     "name": "stdout",
     "output_type": "stream",
     "text": [
      "Ticket price for ticket holder 1: Rs100\n"
     ]
    },
    {
     "name": "stdin",
     "output_type": "stream",
     "text": [
      "Enter the age of ticket holder 2:  25\n"
     ]
    },
    {
     "name": "stdout",
     "output_type": "stream",
     "text": [
      "Ticket price for ticket holder 2: Rs150\n"
     ]
    },
    {
     "name": "stdin",
     "output_type": "stream",
     "text": [
      "Enter the age of ticket holder 3:  65\n"
     ]
    },
    {
     "name": "stdout",
     "output_type": "stream",
     "text": [
      "Ticket price for ticket holder 3: Rs120\n"
     ]
    },
    {
     "name": "stdin",
     "output_type": "stream",
     "text": [
      "Enter the age of ticket holder 4:  24\n"
     ]
    },
    {
     "name": "stdout",
     "output_type": "stream",
     "text": [
      "Ticket price for ticket holder 4: Rs150\n"
     ]
    },
    {
     "name": "stdin",
     "output_type": "stream",
     "text": [
      "Enter the age of ticket holder 5:  12\n"
     ]
    },
    {
     "name": "stdout",
     "output_type": "stream",
     "text": [
      "Ticket price for ticket holder 5: Rs100\n",
      "\n",
      "The total ticket price for 5 tickets is: Rs620\n"
     ]
    }
   ],
   "source": [
    "def calculate_ticket_price(age):\n",
    "    base_price = 100\n",
    "    \n",
    "    if age < 18:\n",
    "        ticket_price = base_price   \n",
    "    elif  age > 60:\n",
    "        ticket_price = base_price + 20      \n",
    "    else:\n",
    "        ticket_price = base_price + 50 \n",
    "    \n",
    "    return ticket_price\n",
    "\n",
    "def book_movie_tickets():\n",
    "    num_tickets = int(input(\"Enter the number of movie tickets: \"))\n",
    "    total_price = 0\n",
    "    \n",
    "    for i in range(num_tickets):\n",
    "        age = int(input(f\"Enter the age of ticket holder {i+1}: \"))\n",
    "        ticket_price = calculate_ticket_price(age)\n",
    "        total_price += ticket_price\n",
    "        print(f\"Ticket price for ticket holder {i+1}: Rs{ticket_price}\")\n",
    "    \n",
    "    print(f\"\\nThe total ticket price for {num_tickets} tickets is: Rs{total_price:}\")\n",
    "\n",
    "book_movie_tickets()"
   ]
  },
  {
   "cell_type": "code",
   "execution_count": null,
   "id": "abe5e51e-9f1c-4b22-8e7c-8aac06e884d9",
   "metadata": {},
   "outputs": [],
   "source": []
  }
 ],
 "metadata": {
  "kernelspec": {
   "display_name": "Python 3 (ipykernel)",
   "language": "python",
   "name": "python3"
  },
  "language_info": {
   "codemirror_mode": {
    "name": "ipython",
    "version": 3
   },
   "file_extension": ".py",
   "mimetype": "text/x-python",
   "name": "python",
   "nbconvert_exporter": "python",
   "pygments_lexer": "ipython3",
   "version": "3.12.1"
  }
 },
 "nbformat": 4,
 "nbformat_minor": 5
}
