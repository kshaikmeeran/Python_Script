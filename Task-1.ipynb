{
 "cells": [
  {
   "cell_type": "code",
   "execution_count": 1,
   "id": "6079f9d0-1a46-49f1-b718-920199ae925f",
   "metadata": {},
   "outputs": [],
   "source": [
    "# String Methods in Python"
   ]
  },
  {
   "cell_type": "code",
   "execution_count": 2,
   "id": "8a1d1996-f11a-48aa-9576-8627b728967a",
   "metadata": {},
   "outputs": [],
   "source": [
    "import pandas as pd"
   ]
  },
  {
   "cell_type": "code",
   "execution_count": 3,
   "id": "fbe3d0e0-c593-4eaf-bb17-a099a1b90fba",
   "metadata": {},
   "outputs": [],
   "source": [
    "first_name = \"SHAIK\"\n",
    "last_name = \"MEERAN\""
   ]
  },
  {
   "cell_type": "code",
   "execution_count": 5,
   "id": "3727c281-d1c7-4284-ab6d-38beefa4a66e",
   "metadata": {},
   "outputs": [
    {
     "data": {
      "text/plain": [
       "'SHAIK MEERAN'"
      ]
     },
     "execution_count": 5,
     "metadata": {},
     "output_type": "execute_result"
    }
   ],
   "source": [
    "full_name = first_name+\" \"+last_name\n",
    "full_name"
   ]
  },
  {
   "cell_type": "code",
   "execution_count": 12,
   "id": "991dd175-6191-40b4-8497-e8593b149fda",
   "metadata": {},
   "outputs": [
    {
     "data": {
      "text/plain": [
       "'SHAIK MEERAN'"
      ]
     },
     "execution_count": 12,
     "metadata": {},
     "output_type": "execute_result"
    }
   ],
   "source": [
    "full_name_1 = (\"{} {}\".format(first_name,last_name))\n",
    "full_name_1"
   ]
  },
  {
   "cell_type": "code",
   "execution_count": 13,
   "id": "76338977-886d-4460-bd66-288a832d98a5",
   "metadata": {},
   "outputs": [
    {
     "name": "stdout",
     "output_type": "stream",
     "text": [
      "SHAIK MEERAN\n"
     ]
    }
   ],
   "source": [
    "full_name_2 = print(first_name, last_name)"
   ]
  },
  {
   "cell_type": "markdown",
   "id": "ea8b8a9e-3c81-46b2-bea6-809b61b1cc2a",
   "metadata": {},
   "source": [
    "## String Methods"
   ]
  },
  {
   "cell_type": "code",
   "execution_count": 17,
   "id": "48d96c7b-8468-4eec-ac0f-bd3e7c379ca2",
   "metadata": {},
   "outputs": [
    {
     "data": {
      "text/plain": [
       "'Shaik meeran'"
      ]
     },
     "execution_count": 17,
     "metadata": {},
     "output_type": "execute_result"
    }
   ],
   "source": [
    "# capitalize - Converts the first character of the string to a capital (uppercase) letter\n",
    "full_name.capitalize()\n"
   ]
  },
  {
   "cell_type": "code",
   "execution_count": 21,
   "id": "ebc32e8c-3e53-4fa0-9d5e-5becea542802",
   "metadata": {},
   "outputs": [
    {
     "data": {
      "text/plain": [
       "'Lamborgini'"
      ]
     },
     "execution_count": 21,
     "metadata": {},
     "output_type": "execute_result"
    }
   ],
   "source": [
    "# strip - Returns the string with both leading and trailing characters\n",
    "car = \"     Lamborgini     \"\n",
    "car.strip()\n",
    "\n"
   ]
  },
  {
   "cell_type": "code",
   "execution_count": 19,
   "id": "dd65fd8f-ae3b-45e9-a4c7-4f1aa297065e",
   "metadata": {},
   "outputs": [
    {
     "data": {
      "text/plain": [
       "'Lamborgini     '"
      ]
     },
     "execution_count": 19,
     "metadata": {},
     "output_type": "execute_result"
    }
   ],
   "source": [
    "# lstrip- Returns the string with leading characters removed\n",
    "car = \"     Lamborgini     \"\n",
    "car.lstrip()"
   ]
  },
  {
   "cell_type": "code",
   "execution_count": 20,
   "id": "1f32c797-d97c-4831-acd8-49d1af90c06a",
   "metadata": {},
   "outputs": [
    {
     "data": {
      "text/plain": [
       "'     Lamborgini'"
      ]
     },
     "execution_count": 20,
     "metadata": {},
     "output_type": "execute_result"
    }
   ],
   "source": [
    "# rstrip-Removes trailing characters\n",
    "car = \"     Lamborgini     \"\n",
    "car.rstrip()"
   ]
  },
  {
   "cell_type": "code",
   "execution_count": 23,
   "id": "eadf7930-e3e7-4f83-9811-c104fc833dd2",
   "metadata": {},
   "outputs": [
    {
     "data": {
      "text/plain": [
       "4"
      ]
     },
     "execution_count": 23,
     "metadata": {},
     "output_type": "execute_result"
    }
   ],
   "source": [
    "#count() function returns the number of occurrences of a substring within a String.\n",
    "str = \"Data Science is interesting\"\n",
    "str.count('i')"
   ]
  },
  {
   "cell_type": "code",
   "execution_count": 25,
   "id": "ff27144d-211e-41a5-a985-72b16fd71d6c",
   "metadata": {},
   "outputs": [
    {
     "data": {
      "text/plain": [
       "['Data', 'Science', 'is', 'interesting']"
      ]
     },
     "execution_count": 25,
     "metadata": {},
     "output_type": "execute_result"
    }
   ],
   "source": [
    "# Split() - Splits the string at the specified separator, and returns a list\n",
    "str = \"Data Science is interesting\"\n",
    "str.split()"
   ]
  },
  {
   "cell_type": "code",
   "execution_count": 27,
   "id": "b29a3830-6797-4f0b-a637-3f96ace8a260",
   "metadata": {},
   "outputs": [
    {
     "data": {
      "text/plain": [
       "'Data Science is very interesting'"
      ]
     },
     "execution_count": 27,
     "metadata": {},
     "output_type": "execute_result"
    }
   ],
   "source": [
    "# Returns a string where a specified value is replaced with a specified value\n",
    "str = \"Data Science is interesting\"\n",
    "str.replace('interesting','very interesting')"
   ]
  },
  {
   "cell_type": "code",
   "execution_count": 28,
   "id": "31cbd32e-2696-4cde-a8da-12fc1c117839",
   "metadata": {},
   "outputs": [
    {
     "data": {
      "text/plain": [
       "'Data Science Is Interesting'"
      ]
     },
     "execution_count": 28,
     "metadata": {},
     "output_type": "execute_result"
    }
   ],
   "source": [
    "# title() - Converts the first character of each word to upper case\n",
    "str = \"Data Science is interesting\"\n",
    "str.title()\n"
   ]
  },
  {
   "cell_type": "code",
   "execution_count": 34,
   "id": "ef7c389a-b94a-4626-8977-40b18f2e0286",
   "metadata": {},
   "outputs": [
    {
     "name": "stdout",
     "output_type": "stream",
     "text": [
      "My Name is Shaik and im from Tamil Nadu\n"
     ]
    }
   ],
   "source": [
    "# format() - The format() method formats the specified value(s) and insert them inside the string's placeholder.\n",
    "str1 = \"Shaik\"\n",
    "str2 = \"Tamil Nadu\"\n",
    "print(\"My Name is {0} and im from {1}\".format(str1,str2))"
   ]
  },
  {
   "cell_type": "code",
   "execution_count": 2,
   "id": "506f950f-f89e-40ff-bd80-846f5a53b319",
   "metadata": {},
   "outputs": [],
   "source": [
    "#task 2\n",
    "# nested if statement"
   ]
  },
  {
   "cell_type": "code",
   "execution_count": 3,
   "id": "de248641-a254-4def-985f-fe4a987a0f46",
   "metadata": {},
   "outputs": [],
   "source": [
    "def my_func():\n",
    "    name = input('Enter your name')\n",
    "    age = int(input('Enter the age'))\n",
    "    print(f\"Hi your name is {name} and you are {age} years old\")"
   ]
  },
  {
   "cell_type": "code",
   "execution_count": 5,
   "id": "44fa97e5-d14c-4c89-8aad-1a39af6d666d",
   "metadata": {},
   "outputs": [
    {
     "name": "stdin",
     "output_type": "stream",
     "text": [
      "Enter your name shaik\n",
      "Enter the age 28\n"
     ]
    },
    {
     "name": "stdout",
     "output_type": "stream",
     "text": [
      "Hi your name is shaik and you are 28 years old\n"
     ]
    }
   ],
   "source": [
    "my_func()"
   ]
  },
  {
   "cell_type": "code",
   "execution_count": 6,
   "id": "d337d7ca-85b9-4bc1-b3da-2b0ce0076925",
   "metadata": {},
   "outputs": [],
   "source": [
    "## Task 3\n",
    "# write a function to take input from users and perform operations"
   ]
  },
  {
   "cell_type": "code",
   "execution_count": 7,
   "id": "55812ca7-8ca6-43a4-be0d-0a844a1bcb30",
   "metadata": {},
   "outputs": [
    {
     "name": "stdin",
     "output_type": "stream",
     "text": [
      "Enter your number 3\n"
     ]
    },
    {
     "name": "stdout",
     "output_type": "stream",
     "text": [
      "Positive number\n"
     ]
    }
   ],
   "source": [
    "num = int(input('Enter your number'))\n",
    "if num >= 0: \n",
    "    if num == 0: \n",
    "        print(\"Zero\") \n",
    "    else: \n",
    "        print(\"Positive number\") \n",
    "else: \n",
    "    print(\"Negative number\") "
   ]
  },
  {
   "cell_type": "code",
   "execution_count": 10,
   "id": "8eefd461-b644-4412-ac8f-ded270248ea0",
   "metadata": {},
   "outputs": [],
   "source": [
    "import pandas as pd"
   ]
  },
  {
   "cell_type": "code",
   "execution_count": 12,
   "id": "996eacab-0e4e-4683-b03e-ffe7bbad5719",
   "metadata": {},
   "outputs": [
    {
     "data": {
      "text/html": [
       "<div>\n",
       "<style scoped>\n",
       "    .dataframe tbody tr th:only-of-type {\n",
       "        vertical-align: middle;\n",
       "    }\n",
       "\n",
       "    .dataframe tbody tr th {\n",
       "        vertical-align: top;\n",
       "    }\n",
       "\n",
       "    .dataframe thead th {\n",
       "        text-align: right;\n",
       "    }\n",
       "</style>\n",
       "<table border=\"1\" class=\"dataframe\">\n",
       "  <thead>\n",
       "    <tr style=\"text-align: right;\">\n",
       "      <th></th>\n",
       "      <th>Team</th>\n",
       "      <th>Goals</th>\n",
       "      <th>Shots on target</th>\n",
       "      <th>Shots off target</th>\n",
       "      <th>Shooting Accuracy</th>\n",
       "      <th>% Goals-to-shots</th>\n",
       "      <th>Total shots (inc. Blocked)</th>\n",
       "      <th>Hit Woodwork</th>\n",
       "      <th>Penalty goals</th>\n",
       "      <th>Penalties not scored</th>\n",
       "      <th>...</th>\n",
       "      <th>Saves made</th>\n",
       "      <th>Saves-to-shots ratio</th>\n",
       "      <th>Fouls Won</th>\n",
       "      <th>Fouls Conceded</th>\n",
       "      <th>Offsides</th>\n",
       "      <th>Yellow Cards</th>\n",
       "      <th>Red Cards</th>\n",
       "      <th>Subs on</th>\n",
       "      <th>Subs off</th>\n",
       "      <th>Players Used</th>\n",
       "    </tr>\n",
       "  </thead>\n",
       "  <tbody>\n",
       "    <tr>\n",
       "      <th>0</th>\n",
       "      <td>Croatia</td>\n",
       "      <td>4</td>\n",
       "      <td>13</td>\n",
       "      <td>12</td>\n",
       "      <td>51.9%</td>\n",
       "      <td>16.0%</td>\n",
       "      <td>32</td>\n",
       "      <td>0</td>\n",
       "      <td>0</td>\n",
       "      <td>0</td>\n",
       "      <td>...</td>\n",
       "      <td>13</td>\n",
       "      <td>81.3%</td>\n",
       "      <td>41</td>\n",
       "      <td>62</td>\n",
       "      <td>2</td>\n",
       "      <td>9</td>\n",
       "      <td>0</td>\n",
       "      <td>9</td>\n",
       "      <td>9</td>\n",
       "      <td>16</td>\n",
       "    </tr>\n",
       "    <tr>\n",
       "      <th>1</th>\n",
       "      <td>Czech Republic</td>\n",
       "      <td>4</td>\n",
       "      <td>13</td>\n",
       "      <td>18</td>\n",
       "      <td>41.9%</td>\n",
       "      <td>12.9%</td>\n",
       "      <td>39</td>\n",
       "      <td>0</td>\n",
       "      <td>0</td>\n",
       "      <td>0</td>\n",
       "      <td>...</td>\n",
       "      <td>9</td>\n",
       "      <td>60.1%</td>\n",
       "      <td>53</td>\n",
       "      <td>73</td>\n",
       "      <td>8</td>\n",
       "      <td>7</td>\n",
       "      <td>0</td>\n",
       "      <td>11</td>\n",
       "      <td>11</td>\n",
       "      <td>19</td>\n",
       "    </tr>\n",
       "    <tr>\n",
       "      <th>2</th>\n",
       "      <td>Denmark</td>\n",
       "      <td>4</td>\n",
       "      <td>10</td>\n",
       "      <td>10</td>\n",
       "      <td>50.0%</td>\n",
       "      <td>20.0%</td>\n",
       "      <td>27</td>\n",
       "      <td>1</td>\n",
       "      <td>0</td>\n",
       "      <td>0</td>\n",
       "      <td>...</td>\n",
       "      <td>10</td>\n",
       "      <td>66.7%</td>\n",
       "      <td>25</td>\n",
       "      <td>38</td>\n",
       "      <td>8</td>\n",
       "      <td>4</td>\n",
       "      <td>0</td>\n",
       "      <td>7</td>\n",
       "      <td>7</td>\n",
       "      <td>15</td>\n",
       "    </tr>\n",
       "    <tr>\n",
       "      <th>3</th>\n",
       "      <td>England</td>\n",
       "      <td>5</td>\n",
       "      <td>11</td>\n",
       "      <td>18</td>\n",
       "      <td>50.0%</td>\n",
       "      <td>17.2%</td>\n",
       "      <td>40</td>\n",
       "      <td>0</td>\n",
       "      <td>0</td>\n",
       "      <td>0</td>\n",
       "      <td>...</td>\n",
       "      <td>22</td>\n",
       "      <td>88.1%</td>\n",
       "      <td>43</td>\n",
       "      <td>45</td>\n",
       "      <td>6</td>\n",
       "      <td>5</td>\n",
       "      <td>0</td>\n",
       "      <td>11</td>\n",
       "      <td>11</td>\n",
       "      <td>16</td>\n",
       "    </tr>\n",
       "    <tr>\n",
       "      <th>4</th>\n",
       "      <td>France</td>\n",
       "      <td>3</td>\n",
       "      <td>22</td>\n",
       "      <td>24</td>\n",
       "      <td>37.9%</td>\n",
       "      <td>6.5%</td>\n",
       "      <td>65</td>\n",
       "      <td>1</td>\n",
       "      <td>0</td>\n",
       "      <td>0</td>\n",
       "      <td>...</td>\n",
       "      <td>6</td>\n",
       "      <td>54.6%</td>\n",
       "      <td>36</td>\n",
       "      <td>51</td>\n",
       "      <td>5</td>\n",
       "      <td>6</td>\n",
       "      <td>0</td>\n",
       "      <td>11</td>\n",
       "      <td>11</td>\n",
       "      <td>19</td>\n",
       "    </tr>\n",
       "  </tbody>\n",
       "</table>\n",
       "<p>5 rows × 35 columns</p>\n",
       "</div>"
      ],
      "text/plain": [
       "             Team  Goals  Shots on target  Shots off target Shooting Accuracy  \\\n",
       "0         Croatia      4               13                12             51.9%   \n",
       "1  Czech Republic      4               13                18             41.9%   \n",
       "2         Denmark      4               10                10             50.0%   \n",
       "3         England      5               11                18             50.0%   \n",
       "4          France      3               22                24             37.9%   \n",
       "\n",
       "  % Goals-to-shots  Total shots (inc. Blocked)  Hit Woodwork  Penalty goals  \\\n",
       "0            16.0%                          32             0              0   \n",
       "1            12.9%                          39             0              0   \n",
       "2            20.0%                          27             1              0   \n",
       "3            17.2%                          40             0              0   \n",
       "4             6.5%                          65             1              0   \n",
       "\n",
       "   Penalties not scored  ...  Saves made  Saves-to-shots ratio  Fouls Won  \\\n",
       "0                     0  ...          13                 81.3%         41   \n",
       "1                     0  ...           9                 60.1%         53   \n",
       "2                     0  ...          10                 66.7%         25   \n",
       "3                     0  ...          22                 88.1%         43   \n",
       "4                     0  ...           6                 54.6%         36   \n",
       "\n",
       "  Fouls Conceded  Offsides  Yellow Cards  Red Cards  Subs on  Subs off  \\\n",
       "0             62         2             9          0        9         9   \n",
       "1             73         8             7          0       11        11   \n",
       "2             38         8             4          0        7         7   \n",
       "3             45         6             5          0       11        11   \n",
       "4             51         5             6          0       11        11   \n",
       "\n",
       "   Players Used  \n",
       "0            16  \n",
       "1            19  \n",
       "2            15  \n",
       "3            16  \n",
       "4            19  \n",
       "\n",
       "[5 rows x 35 columns]"
      ]
     },
     "execution_count": 12,
     "metadata": {},
     "output_type": "execute_result"
    }
   ],
   "source": [
    "football_df = pd.read_csv('Euro_2012_stats_TEAM.csv')\n",
    "football_df.head()"
   ]
  },
  {
   "cell_type": "code",
   "execution_count": null,
   "id": "ec2cf65c-b86a-43d7-ad21-6a2faa7597c5",
   "metadata": {},
   "outputs": [],
   "source": []
  },
  {
   "cell_type": "code",
   "execution_count": 13,
   "id": "862758c9-f14c-4e42-82d5-a02784033938",
   "metadata": {},
   "outputs": [
    {
     "data": {
      "text/html": [
       "<div>\n",
       "<style scoped>\n",
       "    .dataframe tbody tr th:only-of-type {\n",
       "        vertical-align: middle;\n",
       "    }\n",
       "\n",
       "    .dataframe tbody tr th {\n",
       "        vertical-align: top;\n",
       "    }\n",
       "\n",
       "    .dataframe thead th {\n",
       "        text-align: right;\n",
       "    }\n",
       "</style>\n",
       "<table border=\"1\" class=\"dataframe\">\n",
       "  <thead>\n",
       "    <tr style=\"text-align: right;\">\n",
       "      <th></th>\n",
       "      <th>Team</th>\n",
       "      <th>Goals</th>\n",
       "      <th>Shots on target</th>\n",
       "      <th>Shots off target</th>\n",
       "      <th>Shooting Accuracy</th>\n",
       "      <th>% Goals-to-shots</th>\n",
       "      <th>Total shots (inc. Blocked)</th>\n",
       "      <th>Hit Woodwork</th>\n",
       "      <th>Penalty goals</th>\n",
       "      <th>Penalties not scored</th>\n",
       "      <th>Headed goals</th>\n",
       "      <th>Passes</th>\n",
       "      <th>Passes completed</th>\n",
       "      <th>Passing Accuracy</th>\n",
       "      <th>Touches</th>\n",
       "      <th>Crosses</th>\n",
       "      <th>Dribbles</th>\n",
       "      <th>Corners Taken</th>\n",
       "      <th>Tackles</th>\n",
       "      <th>Clearances</th>\n",
       "      <th>Interceptions</th>\n",
       "      <th>Clearances off line</th>\n",
       "      <th>Clean Sheets</th>\n",
       "      <th>Blocks</th>\n",
       "      <th>Goals conceded</th>\n",
       "      <th>Saves made</th>\n",
       "      <th>Saves-to-shots ratio</th>\n",
       "      <th>Fouls Won</th>\n",
       "      <th>Fouls Conceded</th>\n",
       "      <th>Offsides</th>\n",
       "      <th>Yellow Cards</th>\n",
       "      <th>Red Cards</th>\n",
       "      <th>Subs on</th>\n",
       "      <th>Subs off</th>\n",
       "      <th>Players Used</th>\n",
       "    </tr>\n",
       "  </thead>\n",
       "  <tbody>\n",
       "    <tr>\n",
       "      <th>0</th>\n",
       "      <td>Croatia</td>\n",
       "      <td>4</td>\n",
       "      <td>13</td>\n",
       "      <td>12</td>\n",
       "      <td>51.9%</td>\n",
       "      <td>16.0%</td>\n",
       "      <td>32</td>\n",
       "      <td>0</td>\n",
       "      <td>0</td>\n",
       "      <td>0</td>\n",
       "      <td>2</td>\n",
       "      <td>1076</td>\n",
       "      <td>828</td>\n",
       "      <td>76.9%</td>\n",
       "      <td>1706</td>\n",
       "      <td>60</td>\n",
       "      <td>42</td>\n",
       "      <td>14</td>\n",
       "      <td>49</td>\n",
       "      <td>83</td>\n",
       "      <td>56</td>\n",
       "      <td>NaN</td>\n",
       "      <td>0</td>\n",
       "      <td>10</td>\n",
       "      <td>3</td>\n",
       "      <td>13</td>\n",
       "      <td>81.3%</td>\n",
       "      <td>41</td>\n",
       "      <td>62</td>\n",
       "      <td>2</td>\n",
       "      <td>9</td>\n",
       "      <td>0</td>\n",
       "      <td>9</td>\n",
       "      <td>9</td>\n",
       "      <td>16</td>\n",
       "    </tr>\n",
       "    <tr>\n",
       "      <th>1</th>\n",
       "      <td>Czech Republic</td>\n",
       "      <td>4</td>\n",
       "      <td>13</td>\n",
       "      <td>18</td>\n",
       "      <td>41.9%</td>\n",
       "      <td>12.9%</td>\n",
       "      <td>39</td>\n",
       "      <td>0</td>\n",
       "      <td>0</td>\n",
       "      <td>0</td>\n",
       "      <td>0</td>\n",
       "      <td>1565</td>\n",
       "      <td>1223</td>\n",
       "      <td>78.1%</td>\n",
       "      <td>2358</td>\n",
       "      <td>46</td>\n",
       "      <td>68</td>\n",
       "      <td>21</td>\n",
       "      <td>62</td>\n",
       "      <td>98</td>\n",
       "      <td>37</td>\n",
       "      <td>2.0</td>\n",
       "      <td>1</td>\n",
       "      <td>10</td>\n",
       "      <td>6</td>\n",
       "      <td>9</td>\n",
       "      <td>60.1%</td>\n",
       "      <td>53</td>\n",
       "      <td>73</td>\n",
       "      <td>8</td>\n",
       "      <td>7</td>\n",
       "      <td>0</td>\n",
       "      <td>11</td>\n",
       "      <td>11</td>\n",
       "      <td>19</td>\n",
       "    </tr>\n",
       "    <tr>\n",
       "      <th>2</th>\n",
       "      <td>Denmark</td>\n",
       "      <td>4</td>\n",
       "      <td>10</td>\n",
       "      <td>10</td>\n",
       "      <td>50.0%</td>\n",
       "      <td>20.0%</td>\n",
       "      <td>27</td>\n",
       "      <td>1</td>\n",
       "      <td>0</td>\n",
       "      <td>0</td>\n",
       "      <td>3</td>\n",
       "      <td>1298</td>\n",
       "      <td>1082</td>\n",
       "      <td>83.3%</td>\n",
       "      <td>1873</td>\n",
       "      <td>43</td>\n",
       "      <td>32</td>\n",
       "      <td>16</td>\n",
       "      <td>40</td>\n",
       "      <td>61</td>\n",
       "      <td>59</td>\n",
       "      <td>0.0</td>\n",
       "      <td>1</td>\n",
       "      <td>10</td>\n",
       "      <td>5</td>\n",
       "      <td>10</td>\n",
       "      <td>66.7%</td>\n",
       "      <td>25</td>\n",
       "      <td>38</td>\n",
       "      <td>8</td>\n",
       "      <td>4</td>\n",
       "      <td>0</td>\n",
       "      <td>7</td>\n",
       "      <td>7</td>\n",
       "      <td>15</td>\n",
       "    </tr>\n",
       "    <tr>\n",
       "      <th>3</th>\n",
       "      <td>England</td>\n",
       "      <td>5</td>\n",
       "      <td>11</td>\n",
       "      <td>18</td>\n",
       "      <td>50.0%</td>\n",
       "      <td>17.2%</td>\n",
       "      <td>40</td>\n",
       "      <td>0</td>\n",
       "      <td>0</td>\n",
       "      <td>0</td>\n",
       "      <td>3</td>\n",
       "      <td>1488</td>\n",
       "      <td>1200</td>\n",
       "      <td>80.6%</td>\n",
       "      <td>2440</td>\n",
       "      <td>58</td>\n",
       "      <td>60</td>\n",
       "      <td>16</td>\n",
       "      <td>86</td>\n",
       "      <td>106</td>\n",
       "      <td>72</td>\n",
       "      <td>1.0</td>\n",
       "      <td>2</td>\n",
       "      <td>29</td>\n",
       "      <td>3</td>\n",
       "      <td>22</td>\n",
       "      <td>88.1%</td>\n",
       "      <td>43</td>\n",
       "      <td>45</td>\n",
       "      <td>6</td>\n",
       "      <td>5</td>\n",
       "      <td>0</td>\n",
       "      <td>11</td>\n",
       "      <td>11</td>\n",
       "      <td>16</td>\n",
       "    </tr>\n",
       "    <tr>\n",
       "      <th>4</th>\n",
       "      <td>France</td>\n",
       "      <td>3</td>\n",
       "      <td>22</td>\n",
       "      <td>24</td>\n",
       "      <td>37.9%</td>\n",
       "      <td>6.5%</td>\n",
       "      <td>65</td>\n",
       "      <td>1</td>\n",
       "      <td>0</td>\n",
       "      <td>0</td>\n",
       "      <td>0</td>\n",
       "      <td>2066</td>\n",
       "      <td>1803</td>\n",
       "      <td>87.2%</td>\n",
       "      <td>2909</td>\n",
       "      <td>55</td>\n",
       "      <td>76</td>\n",
       "      <td>28</td>\n",
       "      <td>71</td>\n",
       "      <td>76</td>\n",
       "      <td>58</td>\n",
       "      <td>0.0</td>\n",
       "      <td>1</td>\n",
       "      <td>7</td>\n",
       "      <td>5</td>\n",
       "      <td>6</td>\n",
       "      <td>54.6%</td>\n",
       "      <td>36</td>\n",
       "      <td>51</td>\n",
       "      <td>5</td>\n",
       "      <td>6</td>\n",
       "      <td>0</td>\n",
       "      <td>11</td>\n",
       "      <td>11</td>\n",
       "      <td>19</td>\n",
       "    </tr>\n",
       "  </tbody>\n",
       "</table>\n",
       "</div>"
      ],
      "text/plain": [
       "             Team  Goals  Shots on target  Shots off target Shooting Accuracy  \\\n",
       "0         Croatia      4               13                12             51.9%   \n",
       "1  Czech Republic      4               13                18             41.9%   \n",
       "2         Denmark      4               10                10             50.0%   \n",
       "3         England      5               11                18             50.0%   \n",
       "4          France      3               22                24             37.9%   \n",
       "\n",
       "  % Goals-to-shots  Total shots (inc. Blocked)  Hit Woodwork  Penalty goals  \\\n",
       "0            16.0%                          32             0              0   \n",
       "1            12.9%                          39             0              0   \n",
       "2            20.0%                          27             1              0   \n",
       "3            17.2%                          40             0              0   \n",
       "4             6.5%                          65             1              0   \n",
       "\n",
       "   Penalties not scored  Headed goals  Passes  Passes completed  \\\n",
       "0                     0             2    1076               828   \n",
       "1                     0             0    1565              1223   \n",
       "2                     0             3    1298              1082   \n",
       "3                     0             3    1488              1200   \n",
       "4                     0             0    2066              1803   \n",
       "\n",
       "  Passing Accuracy  Touches  Crosses  Dribbles  Corners Taken  Tackles  \\\n",
       "0            76.9%     1706       60        42             14       49   \n",
       "1            78.1%     2358       46        68             21       62   \n",
       "2            83.3%     1873       43        32             16       40   \n",
       "3            80.6%     2440       58        60             16       86   \n",
       "4            87.2%     2909       55        76             28       71   \n",
       "\n",
       "   Clearances  Interceptions  Clearances off line  Clean Sheets  Blocks  \\\n",
       "0          83             56                  NaN             0      10   \n",
       "1          98             37                  2.0             1      10   \n",
       "2          61             59                  0.0             1      10   \n",
       "3         106             72                  1.0             2      29   \n",
       "4          76             58                  0.0             1       7   \n",
       "\n",
       "   Goals conceded  Saves made Saves-to-shots ratio  Fouls Won  Fouls Conceded  \\\n",
       "0               3          13                81.3%         41              62   \n",
       "1               6           9                60.1%         53              73   \n",
       "2               5          10                66.7%         25              38   \n",
       "3               3          22                88.1%         43              45   \n",
       "4               5           6                54.6%         36              51   \n",
       "\n",
       "   Offsides  Yellow Cards  Red Cards  Subs on  Subs off  Players Used  \n",
       "0         2             9          0        9         9            16  \n",
       "1         8             7          0       11        11            19  \n",
       "2         8             4          0        7         7            15  \n",
       "3         6             5          0       11        11            16  \n",
       "4         5             6          0       11        11            19  "
      ]
     },
     "execution_count": 13,
     "metadata": {},
     "output_type": "execute_result"
    }
   ],
   "source": [
    "# Task 4 - How to display all columns in a dataset\n",
    "pd.set_option('display.max_columns', None)\n",
    "football_df.head()"
   ]
  },
  {
   "cell_type": "code",
   "execution_count": null,
   "id": "3c589a61-9703-4145-85ec-716602a51ee3",
   "metadata": {},
   "outputs": [],
   "source": []
  }
 ],
 "metadata": {
  "kernelspec": {
   "display_name": "Python 3 (ipykernel)",
   "language": "python",
   "name": "python3"
  },
  "language_info": {
   "codemirror_mode": {
    "name": "ipython",
    "version": 3
   },
   "file_extension": ".py",
   "mimetype": "text/x-python",
   "name": "python",
   "nbconvert_exporter": "python",
   "pygments_lexer": "ipython3",
   "version": "3.12.1"
  }
 },
 "nbformat": 4,
 "nbformat_minor": 5
}
